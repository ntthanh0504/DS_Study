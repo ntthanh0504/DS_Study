{
 "cells": [
  {
   "cell_type": "code",
   "execution_count": 5,
   "metadata": {},
   "outputs": [
    {
     "name": "stdout",
     "output_type": "stream",
     "text": [
      "14898.45708301605\n"
     ]
    }
   ],
   "source": [
    "#5\n",
    "ori_principal_sum=10000\n",
    "n=12\n",
    "r=8/100\n",
    "t=int(input(\"Years: \"))\n",
    "\n",
    "new_principal_sum=ori_principal_sum*((1+r/n)**(n*t))\n",
    "print(new_principal_sum)"
   ]
  },
  {
   "cell_type": "code",
   "execution_count": 7,
   "metadata": {},
   "outputs": [
    {
     "name": "stdout",
     "output_type": "stream",
     "text": [
      "5\n"
     ]
    }
   ],
   "source": [
    "#8\n",
    "remaining_time=int(input(\"Number of hours to wait: \"))\n",
    "result = 2+remaining_time%24\n",
    "if result >= 24:\n",
    "    result-=24\n",
    "print(result)"
   ]
  }
 ],
 "metadata": {
  "kernelspec": {
   "display_name": "env",
   "language": "python",
   "name": "python3"
  },
  "language_info": {
   "codemirror_mode": {
    "name": "ipython",
    "version": 3
   },
   "file_extension": ".py",
   "mimetype": "text/x-python",
   "name": "python",
   "nbconvert_exporter": "python",
   "pygments_lexer": "ipython3",
   "version": "3.11.3"
  },
  "orig_nbformat": 4
 },
 "nbformat": 4,
 "nbformat_minor": 2
}
