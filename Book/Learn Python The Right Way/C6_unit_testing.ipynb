{
 "cells": [
  {
   "cell_type": "code",
   "execution_count": 12,
   "metadata": {},
   "outputs": [],
   "source": [
    "import sys"
   ]
  },
  {
   "cell_type": "code",
   "execution_count": 13,
   "metadata": {},
   "outputs": [],
   "source": [
    "def day_name(day):\n",
    "    this_list = [\"Sun\", \"Mon\", \"Tue\", \"Wed\", \"Thu\", \"Fri\", \"Sat\"]\n",
    "    if day > 6:\n",
    "        day = day % 6\n",
    "    return this_list[day]\n",
    "\n",
    "def test(did_pass):\n",
    "    \"\"\" Print the result of a test. \"\"\"\n",
    "    linenum = sys._getframe(1).f_lineno # Get the caller's line number.\n",
    "    if did_pass:\n",
    "        msg = \"Test at line {0} ok.\".format(linenum)\n",
    "    else:\n",
    "        msg = \"Test at line {0} FAILED.\".format(linenum)\n",
    "    print(msg)\n",
    "\n",
    "def test_suite_Ex2():\n",
    "    \"\"\" Run the suite of tests for code in this module (this file).\"\"\"\n",
    "    test(day_name(3) == \"Wed\")\n",
    "    test(day_name(6) == \"Sat\")\n",
    "    test(day_name(42) == None)\n",
    "\n",
    "\n"
   ]
  },
  {
   "cell_type": "code",
   "execution_count": 14,
   "metadata": {},
   "outputs": [
    {
     "name": "stdout",
     "output_type": "stream",
     "text": [
      "Test at line 18 ok.\n",
      "Test at line 19 ok.\n",
      "Test at line 20 FAILED.\n"
     ]
    }
   ],
   "source": [
    "test_suite_Ex2() # Here is the call to run the tests"
   ]
  },
  {
   "cell_type": "code",
   "execution_count": 15,
   "metadata": {},
   "outputs": [],
   "source": [
    "def day_num(day_name):\n",
    "    this_list = [\"Sun\", \"Mon\", \"Tue\", \"Wed\", \"Thu\", \"Fri\", \"Sat\"]\n",
    "    if day_name not in this_list:\n",
    "        return None\n",
    "    return this_list.index(day_name)\n",
    "\n",
    "def test(did_pass):\n",
    "    \"\"\" Print the result of a test. \"\"\"\n",
    "    linenum = sys._getframe(1).f_lineno # Get the caller's line number.\n",
    "    if did_pass:\n",
    "        msg = \"Test at line {0} ok.\".format(linenum)\n",
    "    else:\n",
    "        msg = \"Test at line {0} FAILED.\".format(linenum)\n",
    "    print(msg)\n",
    "\n",
    "def test_suite_Ex3():\n",
    "    \"\"\" Run the suite of tests for code in this module (this file).\"\"\"\n",
    "    test(day_num(\"Fri\") == 5)\n",
    "    test(day_num(\"Sun\") == 0)\n",
    "    test(day_num(day_name(3)) == 3)\n",
    "    test(day_name(day_num(\"Thu\")) == \"Thu\")\n",
    "    test(day_num(\"Halloween\") == None)"
   ]
  },
  {
   "cell_type": "code",
   "execution_count": 16,
   "metadata": {},
   "outputs": [
    {
     "name": "stdout",
     "output_type": "stream",
     "text": [
      "Test at line 18 ok.\n",
      "Test at line 19 ok.\n",
      "Test at line 20 ok.\n",
      "Test at line 21 ok.\n",
      "Test at line 22 ok.\n"
     ]
    }
   ],
   "source": [
    "test_suite_Ex3()"
   ]
  },
  {
   "cell_type": "code",
   "execution_count": null,
   "metadata": {},
   "outputs": [],
   "source": []
  }
 ],
 "metadata": {
  "kernelspec": {
   "display_name": "env",
   "language": "python",
   "name": "python3"
  },
  "language_info": {
   "codemirror_mode": {
    "name": "ipython",
    "version": 3
   },
   "file_extension": ".py",
   "mimetype": "text/x-python",
   "name": "python",
   "nbconvert_exporter": "python",
   "pygments_lexer": "ipython3",
   "version": "3.11.3"
  },
  "orig_nbformat": 4
 },
 "nbformat": 4,
 "nbformat_minor": 2
}
