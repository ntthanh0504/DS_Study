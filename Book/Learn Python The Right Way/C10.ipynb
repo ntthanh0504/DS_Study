{
 "cells": [
  {
   "cell_type": "code",
   "execution_count": 17,
   "metadata": {},
   "outputs": [
    {
     "data": {
      "text/plain": [
       "' turtle.setup(400,500) # Determine the window size\\nwn = turtle.Screen() # Get a reference to the window\\nwn.title(\"Handling keypresses!\") # Change the window title\\nwn.bgcolor(\"lightgreen\") # Set the background color\\ntess = turtle.Turtle() # Create our favorite turtle\\n\\n# The next four functions are our \"event handlers\".\\ndef h1():\\n    tess.forward(30)\\n\\ndef h2():\\n    tess.left(45)\\n\\ndef h3():\\n    tess.right(45)\\n\\ndef h4():\\n    wn.bye() # Close down the turtle window\\n\\n# These lines \"wire up\" keypresses to the handlers we\\'ve defined.\\nwn.onkey(h1, \"Up\")\\nwn.onkey(h2, \"Left\")\\nwn.onkey(h3, \"Right\")\\nwn.onkey(h4, \"q\")\\n\\nwn.listen()\\nwn.mainloop() '"
      ]
     },
     "execution_count": 17,
     "metadata": {},
     "output_type": "execute_result"
    }
   ],
   "source": [
    "import turtle\n",
    "\n",
    "\"\"\" turtle.setup(400,500) # Determine the window size\n",
    "wn = turtle.Screen() # Get a reference to the window\n",
    "wn.title(\"Handling keypresses!\") # Change the window title\n",
    "wn.bgcolor(\"lightgreen\") # Set the background color\n",
    "tess = turtle.Turtle() # Create our favorite turtle\n",
    "\n",
    "# The next four functions are our \"event handlers\".\n",
    "def h1():\n",
    "    tess.forward(30)\n",
    "\n",
    "def h2():\n",
    "    tess.left(45)\n",
    "\n",
    "def h3():\n",
    "    tess.right(45)\n",
    "\n",
    "def h4():\n",
    "    wn.bye() # Close down the turtle window\n",
    "\n",
    "# These lines \"wire up\" keypresses to the handlers we've defined.\n",
    "wn.onkey(h1, \"Up\")\n",
    "wn.onkey(h2, \"Left\")\n",
    "wn.onkey(h3, \"Right\")\n",
    "wn.onkey(h4, \"q\")\n",
    "\n",
    "wn.listen()\n",
    "wn.mainloop() \"\"\"\n"
   ]
  },
  {
   "cell_type": "code",
   "execution_count": 18,
   "metadata": {},
   "outputs": [
    {
     "data": {
      "text/plain": [
       "' import turtle\\nturtle.setup(400,500)\\nwn = turtle.Screen()\\nwn.title(\"How to handle mouse clicks on the window!\")\\nwn.bgcolor(\"lightgreen\")\\ntess = turtle.Turtle()\\ntess.color(\"purple\")\\ntess.pensize(3)\\ntess.shape(\"circle\")\\n\\ndef h1(x, y):\\n    tess.goto(x, y)\\n\\nwn.onclick(h1) # Wire up a click on the window.\\nwn.mainloop()\\n '"
      ]
     },
     "execution_count": 18,
     "metadata": {},
     "output_type": "execute_result"
    }
   ],
   "source": [
    "\"\"\" import turtle\n",
    "turtle.setup(400,500)\n",
    "wn = turtle.Screen()\n",
    "wn.title(\"How to handle mouse clicks on the window!\")\n",
    "wn.bgcolor(\"lightgreen\")\n",
    "tess = turtle.Turtle()\n",
    "tess.color(\"purple\")\n",
    "tess.pensize(3)\n",
    "tess.shape(\"circle\")\n",
    "\n",
    "def h1(x, y):\n",
    "    tess.goto(x, y)\n",
    "\n",
    "wn.onclick(h1) # Wire up a click on the window.\n",
    "wn.mainloop()\n",
    " \"\"\""
   ]
  },
  {
   "cell_type": "code",
   "execution_count": 19,
   "metadata": {},
   "outputs": [
    {
     "data": {
      "text/plain": [
       "' import turtle\\n\\nturtle.setup(400,500) # Determine the window size\\nwn = turtle.Screen() # Get a reference to the window\\nwn.title(\"Handling mouse clicks!\") # Change the window title\\nwn.bgcolor(\"lightgreen\") # Set the background color\\ntess = turtle.Turtle() # Create two turtles\\ntess.color(\"purple\")\\nalex = turtle.Turtle() # Move them apart\\nalex.color(\"blue\")\\nalex.forward(100)\\n\\ndef handler_for_tess(x, y):\\n    wn.title(\"Tess clicked at {0}, {1}\".format(x, y))\\n    tess.left(42)\\n    tess.forward(30)\\n\\ndef handler_for_alex(x, y):\\n    wn.title(\"Alex clicked at {0}, {1}\".format(x, y))\\n    alex.right(84)\\n    alex.forward(50)\\n\\ntess.onclick(handler_for_tess)\\nalex.onclick(handler_for_alex)\\n\\nwn.mainloop()\\n '"
      ]
     },
     "execution_count": 19,
     "metadata": {},
     "output_type": "execute_result"
    }
   ],
   "source": [
    "\"\"\" import turtle\n",
    "\n",
    "turtle.setup(400,500) # Determine the window size\n",
    "wn = turtle.Screen() # Get a reference to the window\n",
    "wn.title(\"Handling mouse clicks!\") # Change the window title\n",
    "wn.bgcolor(\"lightgreen\") # Set the background color\n",
    "tess = turtle.Turtle() # Create two turtles\n",
    "tess.color(\"purple\")\n",
    "alex = turtle.Turtle() # Move them apart\n",
    "alex.color(\"blue\")\n",
    "alex.forward(100)\n",
    "\n",
    "def handler_for_tess(x, y):\n",
    "    wn.title(\"Tess clicked at {0}, {1}\".format(x, y))\n",
    "    tess.left(42)\n",
    "    tess.forward(30)\n",
    "\n",
    "def handler_for_alex(x, y):\n",
    "    wn.title(\"Alex clicked at {0}, {1}\".format(x, y))\n",
    "    alex.right(84)\n",
    "    alex.forward(50)\n",
    "\n",
    "tess.onclick(handler_for_tess)\n",
    "alex.onclick(handler_for_alex)\n",
    "\n",
    "wn.mainloop()\n",
    " \"\"\""
   ]
  },
  {
   "cell_type": "code",
   "execution_count": 20,
   "metadata": {},
   "outputs": [
    {
     "data": {
      "text/plain": [
       "' import turtle\\n\\nturtle.setup(400,500)\\nwn = turtle.Screen()\\nwn.title(\"Using a timer\")\\nwn.bgcolor(\"lightgreen\")\\n\\ntess = turtle.Turtle()\\ntess.color(\"purple\")\\ntess.pensize(3)\\n\\ndef h1():\\n    tess.forward(100)\\n    tess.left(56)\\n\\nwn.ontimer(h1, 2000)\\nwn.mainloop() '"
      ]
     },
     "execution_count": 20,
     "metadata": {},
     "output_type": "execute_result"
    }
   ],
   "source": [
    "\"\"\" import turtle\n",
    "\n",
    "turtle.setup(400,500)\n",
    "wn = turtle.Screen()\n",
    "wn.title(\"Using a timer\")\n",
    "wn.bgcolor(\"lightgreen\")\n",
    "\n",
    "tess = turtle.Turtle()\n",
    "tess.color(\"purple\")\n",
    "tess.pensize(3)\n",
    "\n",
    "def h1():\n",
    "    tess.forward(100)\n",
    "    tess.left(56)\n",
    "\n",
    "wn.ontimer(h1, 2000)\n",
    "wn.mainloop() \"\"\""
   ]
  },
  {
   "cell_type": "code",
   "execution_count": 21,
   "metadata": {},
   "outputs": [],
   "source": [
    "import turtle\n",
    "\n",
    "# Tess becomes a traffic light.\n",
    "turtle.setup(400, 500)\n",
    "wn = turtle.Screen()\n",
    "wn.title(\"Tess becomes a traffic light!\")\n",
    "wn.bgcolor(\"lightgreen\")\n",
    "tess = turtle.Turtle()\n",
    "\n",
    "def draw_housing():\n",
    "    \"\"\"Draw a nice housing to hold the traffic lights\"\"\"\n",
    "    tess.pensize(3)\n",
    "    tess.color(\"black\", \"darkgrey\")\n",
    "    tess.begin_fill()\n",
    "    tess.forward(80)\n",
    "    tess.left(90)\n",
    "    tess.forward(200)\n",
    "    tess.circle(40, 180)\n",
    "    tess.forward(200)\n",
    "    tess.left(90)\n",
    "    tess.end_fill()\n",
    "\n",
    "draw_housing()\n",
    "\n",
    "tess.penup()\n",
    "\n",
    "# Position tess onto the place where the green light should be\n",
    "tess.forward(40)\n",
    "tess.left(90)\n",
    "tess.forward(50)\n",
    "\n",
    "# Turn tess into a big green circle\n",
    "tess.shape(\"circle\")\n",
    "tess.shapesize(3)\n",
    "tess.fillcolor(\"green\")\n",
    "\n",
    "# A traffic light is a kind of state machine with three states,\n",
    "# Green, Orange, Red. We number these states 0, 1, 2\n",
    "# When the machine changes state, we change tess' position and\n",
    "# her fillcolor.\n",
    "\n",
    "# This variable holds the current state of the machine\n",
    "state_num = 0\n",
    "\n",
    "def advance_state_machine():\n",
    "    global state_num\n",
    "    if state_num == 0:  # Transition from state 0 to state 1\n",
    "        tess.forward(70)\n",
    "        tess.fillcolor(\"orange\")\n",
    "        state_num = 1\n",
    "    elif state_num == 1:  # Transition from state 1 to state 2\n",
    "        tess.forward(70)\n",
    "        tess.fillcolor(\"red\")\n",
    "        state_num = 2\n",
    "    else:  # Transition from state 2 to state 0\n",
    "        tess.back(140)\n",
    "        tess.fillcolor(\"green\")\n",
    "        state_num = 0\n",
    "\n",
    "# Bind the event handler to the space key.\n",
    "wn.onkey(advance_state_machine, \"space\")\n",
    "\n",
    "wn.listen()  # Listen for events\n",
    "wn.mainloop()\n"
   ]
  }
 ],
 "metadata": {
  "kernelspec": {
   "display_name": "env",
   "language": "python",
   "name": "python3"
  },
  "language_info": {
   "codemirror_mode": {
    "name": "ipython",
    "version": 3
   },
   "file_extension": ".py",
   "mimetype": "text/x-python",
   "name": "python",
   "nbconvert_exporter": "python",
   "pygments_lexer": "ipython3",
   "version": "3.11.3"
  },
  "orig_nbformat": 4
 },
 "nbformat": 4,
 "nbformat_minor": 2
}
