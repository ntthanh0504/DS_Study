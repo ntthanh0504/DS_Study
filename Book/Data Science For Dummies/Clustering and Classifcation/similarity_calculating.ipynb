{
 "cells": [
  {
   "cell_type": "code",
   "execution_count": 5,
   "metadata": {},
   "outputs": [],
   "source": [
    "import math\n",
    "import numpy as np"
   ]
  },
  {
   "cell_type": "code",
   "execution_count": 6,
   "metadata": {},
   "outputs": [],
   "source": [
    "def euclidean_distance(p, q):\n",
    "  \"\"\"Calculates the Euclidean distance between two data points.\n",
    "\n",
    "  Args:\n",
    "    p: A list of coordinates for the first data point.\n",
    "    q: A list of coordinates for the second data point.\n",
    "\n",
    "  Returns:\n",
    "    The Euclidean distance between the two data points.\n",
    "  \"\"\"\n",
    "\n",
    "  return math.sqrt(sum((pi - qi)**2 for pi, qi in zip(p, q)))\n",
    "\n",
    "def manhattan_distance(p, q):\n",
    "  \"\"\"Calculates the Manhattan distance between two data points.\n",
    "\n",
    "  Args:\n",
    "    p: A list of coordinates for the first data point.\n",
    "    q: A list of coordinates for the second data point.\n",
    "\n",
    "  Returns:\n",
    "    The Manhattan distance between the two data points.\n",
    "  \"\"\"\n",
    "\n",
    "  return sum(abs(pi - qi) for pi, qi in zip(p, q))\n",
    "\n",
    "def minkowski_distance(p, q, p_norm=2):\n",
    "  \"\"\"Calculates the Minkowski distance between two data points.\n",
    "\n",
    "  Args:\n",
    "    p: A list of coordinates for the first data point.\n",
    "    q: A list of coordinates for the second data point.\n",
    "    p_norm: The order of the Minkowski distance. The default value is 2, which corresponds to the Euclidean distance.\n",
    "\n",
    "  Returns:\n",
    "    The Minkowski distance between the two data points.\n",
    "  \"\"\"\n",
    "\n",
    "  return (sum(abs(pi - qi)**p_norm for pi, qi in zip(p, q)))**1.0 / p_norm"
   ]
  },
  {
   "cell_type": "code",
   "execution_count": 8,
   "metadata": {},
   "outputs": [
    {
     "name": "stdout",
     "output_type": "stream",
     "text": [
      "[[0.         2.82842712 5.65685425]\n",
      " [2.82842712 0.         2.82842712]\n",
      " [5.65685425 2.82842712 0.        ]]\n"
     ]
    }
   ],
   "source": [
    "def calculate_distance_matrix(data):\n",
    "  \"\"\"Calculates the distance matrix between all features of data using the specified distance metric.\n",
    "\n",
    "  Args:\n",
    "    data: A NumPy array containing the data.\n",
    "    metric: The distance metric to use. Valid options are \"euclidean\", \"manhattan\", or \"minkowski\".\n",
    "\n",
    "  Returns:\n",
    "    A NumPy array containing the distance matrix.\n",
    "  \"\"\"\n",
    "\n",
    "  distance_matrix = np.zeros((data.shape[0], data.shape[0]))\n",
    "  for i in range(data.shape[0]):\n",
    "    for j in range(data.shape[0]):\n",
    "      distance_matrix[i, j] = euclidean_distance(data[i], data[j])\n",
    "  return distance_matrix\n",
    "\n",
    "# Example usage:\n",
    "\n",
    "data = np.array([[1, 2], [3, 4], [5, 6]])\n",
    "distance_matrix = calculate_distance_matrix(data)\n",
    "\n",
    "print(distance_matrix)"
   ]
  },
  {
   "cell_type": "code",
   "execution_count": 9,
   "metadata": {},
   "outputs": [
    {
     "name": "stdout",
     "output_type": "stream",
     "text": [
      "Jaccard Similarity: 0.25\n"
     ]
    }
   ],
   "source": [
    "# Jaccard distance metric\n",
    "\n",
    "def jaccard_similarity(set1, set2):\n",
    "    # intersection of two sets\n",
    "    intersection = len(set1.intersection(set2))\n",
    "    # Unions of two sets\n",
    "    union = len(set1.union(set2))\n",
    "     \n",
    "    return intersection / union\n",
    " \n",
    "set_a = {\"Geeks\", \"for\", \"Geeks\", \"NLP\", \"DSc\"}\n",
    "set_b = {\"Geek\", \"for\", \"Geeks\", \"DSc.\", 'ML', \"DSA\"}\n",
    " \n",
    "similarity = jaccard_similarity(set_a, set_b)\n",
    "print(\"Jaccard Similarity:\", similarity)"
   ]
  },
  {
   "cell_type": "code",
   "execution_count": null,
   "metadata": {},
   "outputs": [],
   "source": []
  }
 ],
 "metadata": {
  "kernelspec": {
   "display_name": "env",
   "language": "python",
   "name": "python3"
  },
  "language_info": {
   "codemirror_mode": {
    "name": "ipython",
    "version": 3
   },
   "file_extension": ".py",
   "mimetype": "text/x-python",
   "name": "python",
   "nbconvert_exporter": "python",
   "pygments_lexer": "ipython3",
   "version": "3.11.3"
  }
 },
 "nbformat": 4,
 "nbformat_minor": 2
}
