{
 "cells": [
  {
   "cell_type": "code",
   "execution_count": 1,
   "metadata": {},
   "outputs": [
    {
     "name": "stdout",
     "output_type": "stream",
     "text": [
      "Setup complete!\n"
     ]
    }
   ],
   "source": [
    "import pandas as pd\n",
    "import numpy as np\n",
    "import matplotlib.pyplot as plt\n",
    "from scipy import stats\n",
    "from mlxtend.preprocessing import minmax_scaling\n",
    "\n",
    "import seaborn as sns\n",
    "\n",
    "from sklearn.model_selection import train_test_split, cross_val_score\n",
    "from sklearn.metrics import accuracy_score, mean_absolute_error\n",
    "from sklearn.tree import DecisionTreeClassifier\n",
    "from sklearn.ensemble import RandomForestClassifier\n",
    "from sklearn.preprocessing import LabelBinarizer\n",
    "\n",
    "from sklearn.feature_selection import SelectKBest\n",
    "from sklearn.feature_selection import chi2\n",
    "from sklearn.feature_selection import f_regression\n",
    "from sklearn.feature_selection import mutual_info_classif\n",
    "from sklearn.naive_bayes import GaussianNB\n",
    "from sklearn.feature_selection import RFE\n",
    "from sklearn.base import clone\n",
    "\n",
    "np.set_printoptions(suppress = True) # no scientific notation\n",
    "\n",
    "print(\"Setup complete!\")"
   ]
  },
  {
   "cell_type": "code",
   "execution_count": 2,
   "metadata": {},
   "outputs": [
    {
     "data": {
      "text/plain": [
       "(303, 14)"
      ]
     },
     "execution_count": 2,
     "metadata": {},
     "output_type": "execute_result"
    }
   ],
   "source": [
    "df_heart = pd.read_csv('Data/heart.csv')\n",
    "df_heart.shape"
   ]
  },
  {
   "cell_type": "code",
   "execution_count": 3,
   "metadata": {},
   "outputs": [
    {
     "data": {
      "text/html": [
       "<div>\n",
       "<style scoped>\n",
       "    .dataframe tbody tr th:only-of-type {\n",
       "        vertical-align: middle;\n",
       "    }\n",
       "\n",
       "    .dataframe tbody tr th {\n",
       "        vertical-align: top;\n",
       "    }\n",
       "\n",
       "    .dataframe thead th {\n",
       "        text-align: right;\n",
       "    }\n",
       "</style>\n",
       "<table border=\"1\" class=\"dataframe\">\n",
       "  <thead>\n",
       "    <tr style=\"text-align: right;\">\n",
       "      <th></th>\n",
       "      <th>age</th>\n",
       "      <th>sex</th>\n",
       "      <th>cp</th>\n",
       "      <th>trtbps</th>\n",
       "      <th>chol</th>\n",
       "      <th>fbs</th>\n",
       "      <th>restecg</th>\n",
       "      <th>thalachh</th>\n",
       "      <th>exng</th>\n",
       "      <th>oldpeak</th>\n",
       "      <th>slp</th>\n",
       "      <th>caa</th>\n",
       "      <th>thall</th>\n",
       "      <th>output</th>\n",
       "    </tr>\n",
       "  </thead>\n",
       "  <tbody>\n",
       "    <tr>\n",
       "      <th>0</th>\n",
       "      <td>63</td>\n",
       "      <td>1</td>\n",
       "      <td>3</td>\n",
       "      <td>145</td>\n",
       "      <td>233</td>\n",
       "      <td>1</td>\n",
       "      <td>0</td>\n",
       "      <td>150</td>\n",
       "      <td>0</td>\n",
       "      <td>2.3</td>\n",
       "      <td>0</td>\n",
       "      <td>0</td>\n",
       "      <td>1</td>\n",
       "      <td>1</td>\n",
       "    </tr>\n",
       "    <tr>\n",
       "      <th>1</th>\n",
       "      <td>37</td>\n",
       "      <td>1</td>\n",
       "      <td>2</td>\n",
       "      <td>130</td>\n",
       "      <td>250</td>\n",
       "      <td>0</td>\n",
       "      <td>1</td>\n",
       "      <td>187</td>\n",
       "      <td>0</td>\n",
       "      <td>3.5</td>\n",
       "      <td>0</td>\n",
       "      <td>0</td>\n",
       "      <td>2</td>\n",
       "      <td>1</td>\n",
       "    </tr>\n",
       "    <tr>\n",
       "      <th>2</th>\n",
       "      <td>41</td>\n",
       "      <td>0</td>\n",
       "      <td>1</td>\n",
       "      <td>130</td>\n",
       "      <td>204</td>\n",
       "      <td>0</td>\n",
       "      <td>0</td>\n",
       "      <td>172</td>\n",
       "      <td>0</td>\n",
       "      <td>1.4</td>\n",
       "      <td>2</td>\n",
       "      <td>0</td>\n",
       "      <td>2</td>\n",
       "      <td>1</td>\n",
       "    </tr>\n",
       "    <tr>\n",
       "      <th>3</th>\n",
       "      <td>56</td>\n",
       "      <td>1</td>\n",
       "      <td>1</td>\n",
       "      <td>120</td>\n",
       "      <td>236</td>\n",
       "      <td>0</td>\n",
       "      <td>1</td>\n",
       "      <td>178</td>\n",
       "      <td>0</td>\n",
       "      <td>0.8</td>\n",
       "      <td>2</td>\n",
       "      <td>0</td>\n",
       "      <td>2</td>\n",
       "      <td>1</td>\n",
       "    </tr>\n",
       "    <tr>\n",
       "      <th>4</th>\n",
       "      <td>57</td>\n",
       "      <td>0</td>\n",
       "      <td>0</td>\n",
       "      <td>120</td>\n",
       "      <td>354</td>\n",
       "      <td>0</td>\n",
       "      <td>1</td>\n",
       "      <td>163</td>\n",
       "      <td>1</td>\n",
       "      <td>0.6</td>\n",
       "      <td>2</td>\n",
       "      <td>0</td>\n",
       "      <td>2</td>\n",
       "      <td>1</td>\n",
       "    </tr>\n",
       "  </tbody>\n",
       "</table>\n",
       "</div>"
      ],
      "text/plain": [
       "   age  sex  cp  trtbps  chol  fbs  restecg  thalachh  exng  oldpeak  slp  \\\n",
       "0   63    1   3     145   233    1        0       150     0      2.3    0   \n",
       "1   37    1   2     130   250    0        1       187     0      3.5    0   \n",
       "2   41    0   1     130   204    0        0       172     0      1.4    2   \n",
       "3   56    1   1     120   236    0        1       178     0      0.8    2   \n",
       "4   57    0   0     120   354    0        1       163     1      0.6    2   \n",
       "\n",
       "   caa  thall  output  \n",
       "0    0      1       1  \n",
       "1    0      2       1  \n",
       "2    0      2       1  \n",
       "3    0      2       1  \n",
       "4    0      2       1  "
      ]
     },
     "execution_count": 3,
     "metadata": {},
     "output_type": "execute_result"
    }
   ],
   "source": [
    "df_heart.head()"
   ]
  },
  {
   "cell_type": "code",
   "execution_count": 4,
   "metadata": {},
   "outputs": [
    {
     "data": {
      "text/html": [
       "<div>\n",
       "<style scoped>\n",
       "    .dataframe tbody tr th:only-of-type {\n",
       "        vertical-align: middle;\n",
       "    }\n",
       "\n",
       "    .dataframe tbody tr th {\n",
       "        vertical-align: top;\n",
       "    }\n",
       "\n",
       "    .dataframe thead th {\n",
       "        text-align: right;\n",
       "    }\n",
       "</style>\n",
       "<table border=\"1\" class=\"dataframe\">\n",
       "  <thead>\n",
       "    <tr style=\"text-align: right;\">\n",
       "      <th></th>\n",
       "      <th>age</th>\n",
       "      <th>sex</th>\n",
       "      <th>cp</th>\n",
       "      <th>trtbps</th>\n",
       "      <th>chol</th>\n",
       "      <th>fbs</th>\n",
       "      <th>restecg</th>\n",
       "      <th>thalachh</th>\n",
       "      <th>exng</th>\n",
       "      <th>oldpeak</th>\n",
       "      <th>slp</th>\n",
       "      <th>caa</th>\n",
       "      <th>thall</th>\n",
       "      <th>output</th>\n",
       "    </tr>\n",
       "  </thead>\n",
       "  <tbody>\n",
       "    <tr>\n",
       "      <th>298</th>\n",
       "      <td>57</td>\n",
       "      <td>0</td>\n",
       "      <td>0</td>\n",
       "      <td>140</td>\n",
       "      <td>241</td>\n",
       "      <td>0</td>\n",
       "      <td>1</td>\n",
       "      <td>123</td>\n",
       "      <td>1</td>\n",
       "      <td>0.2</td>\n",
       "      <td>1</td>\n",
       "      <td>0</td>\n",
       "      <td>3</td>\n",
       "      <td>0</td>\n",
       "    </tr>\n",
       "    <tr>\n",
       "      <th>299</th>\n",
       "      <td>45</td>\n",
       "      <td>1</td>\n",
       "      <td>3</td>\n",
       "      <td>110</td>\n",
       "      <td>264</td>\n",
       "      <td>0</td>\n",
       "      <td>1</td>\n",
       "      <td>132</td>\n",
       "      <td>0</td>\n",
       "      <td>1.2</td>\n",
       "      <td>1</td>\n",
       "      <td>0</td>\n",
       "      <td>3</td>\n",
       "      <td>0</td>\n",
       "    </tr>\n",
       "    <tr>\n",
       "      <th>300</th>\n",
       "      <td>68</td>\n",
       "      <td>1</td>\n",
       "      <td>0</td>\n",
       "      <td>144</td>\n",
       "      <td>193</td>\n",
       "      <td>1</td>\n",
       "      <td>1</td>\n",
       "      <td>141</td>\n",
       "      <td>0</td>\n",
       "      <td>3.4</td>\n",
       "      <td>1</td>\n",
       "      <td>2</td>\n",
       "      <td>3</td>\n",
       "      <td>0</td>\n",
       "    </tr>\n",
       "    <tr>\n",
       "      <th>301</th>\n",
       "      <td>57</td>\n",
       "      <td>1</td>\n",
       "      <td>0</td>\n",
       "      <td>130</td>\n",
       "      <td>131</td>\n",
       "      <td>0</td>\n",
       "      <td>1</td>\n",
       "      <td>115</td>\n",
       "      <td>1</td>\n",
       "      <td>1.2</td>\n",
       "      <td>1</td>\n",
       "      <td>1</td>\n",
       "      <td>3</td>\n",
       "      <td>0</td>\n",
       "    </tr>\n",
       "    <tr>\n",
       "      <th>302</th>\n",
       "      <td>57</td>\n",
       "      <td>0</td>\n",
       "      <td>1</td>\n",
       "      <td>130</td>\n",
       "      <td>236</td>\n",
       "      <td>0</td>\n",
       "      <td>0</td>\n",
       "      <td>174</td>\n",
       "      <td>0</td>\n",
       "      <td>0.0</td>\n",
       "      <td>1</td>\n",
       "      <td>1</td>\n",
       "      <td>2</td>\n",
       "      <td>0</td>\n",
       "    </tr>\n",
       "  </tbody>\n",
       "</table>\n",
       "</div>"
      ],
      "text/plain": [
       "     age  sex  cp  trtbps  chol  fbs  restecg  thalachh  exng  oldpeak  slp  \\\n",
       "298   57    0   0     140   241    0        1       123     1      0.2    1   \n",
       "299   45    1   3     110   264    0        1       132     0      1.2    1   \n",
       "300   68    1   0     144   193    1        1       141     0      3.4    1   \n",
       "301   57    1   0     130   131    0        1       115     1      1.2    1   \n",
       "302   57    0   1     130   236    0        0       174     0      0.0    1   \n",
       "\n",
       "     caa  thall  output  \n",
       "298    0      3       0  \n",
       "299    0      3       0  \n",
       "300    2      3       0  \n",
       "301    1      3       0  \n",
       "302    1      2       0  "
      ]
     },
     "execution_count": 4,
     "metadata": {},
     "output_type": "execute_result"
    }
   ],
   "source": [
    "df_heart.tail()"
   ]
  },
  {
   "cell_type": "code",
   "execution_count": 5,
   "metadata": {},
   "outputs": [
    {
     "name": "stdout",
     "output_type": "stream",
     "text": [
      "<class 'pandas.core.frame.DataFrame'>\n",
      "RangeIndex: 303 entries, 0 to 302\n",
      "Data columns (total 14 columns):\n",
      " #   Column    Non-Null Count  Dtype  \n",
      "---  ------    --------------  -----  \n",
      " 0   age       303 non-null    int64  \n",
      " 1   sex       303 non-null    int64  \n",
      " 2   cp        303 non-null    int64  \n",
      " 3   trtbps    303 non-null    int64  \n",
      " 4   chol      303 non-null    int64  \n",
      " 5   fbs       303 non-null    int64  \n",
      " 6   restecg   303 non-null    int64  \n",
      " 7   thalachh  303 non-null    int64  \n",
      " 8   exng      303 non-null    int64  \n",
      " 9   oldpeak   303 non-null    float64\n",
      " 10  slp       303 non-null    int64  \n",
      " 11  caa       303 non-null    int64  \n",
      " 12  thall     303 non-null    int64  \n",
      " 13  output    303 non-null    int64  \n",
      "dtypes: float64(1), int64(13)\n",
      "memory usage: 33.3 KB\n"
     ]
    }
   ],
   "source": [
    "df_heart.info()"
   ]
  },
  {
   "cell_type": "code",
   "execution_count": 6,
   "metadata": {},
   "outputs": [],
   "source": [
    "df_heart['age_groups'] = pd.cut(x=df_heart['age'], \n",
    "                          bins=[0, 2, 16, 30, 45, 116], \n",
    "                          labels=['Babies', 'Children', 'Young Adults', 'Middle-aged Adults', 'Old Adults'])"
   ]
  },
  {
   "cell_type": "code",
   "execution_count": 7,
   "metadata": {},
   "outputs": [],
   "source": [
    "encoder = LabelBinarizer()\n",
    "onehot = encoder.fit_transform(df_heart['age_groups'])\n",
    "for j, class_ in enumerate(encoder.classes_):\n",
    "    df_heart[\"c({})\".format(class_)] = onehot[:, j]\n",
    "\n",
    "del df_heart[\"age_groups\"]"
   ]
  },
  {
   "cell_type": "code",
   "execution_count": 8,
   "metadata": {},
   "outputs": [
    {
     "name": "stdout",
     "output_type": "stream",
     "text": [
      "0 Middle-aged Adults\n",
      "c(Middle-aged_Adults)\n",
      "===================\n",
      "1 Old Adults\n",
      "c(Old_Adults)\n",
      "===================\n",
      "2 Young Adults\n",
      "c(Young_Adults)\n",
      "===================\n"
     ]
    }
   ],
   "source": [
    "for j, _class in enumerate(encoder.classes_):\n",
    "    print(j, _class)    \n",
    "    print('c({})'.format(_class.replace('\\x20', '_'))) # this is building out the column names\n",
    "    # whitespaces ( ) are replaces with underscores (_)\n",
    "    print(\"===================\")"
   ]
  },
  {
   "cell_type": "code",
   "execution_count": 9,
   "metadata": {},
   "outputs": [
    {
     "name": "stderr",
     "output_type": "stream",
     "text": [
      "c:\\Users\\Thanh\\anaconda3\\envs\\env\\Lib\\site-packages\\mlxtend\\preprocessing\\scaling.py:40: FutureWarning: Support for multi-dimensional indexing (e.g. `obj[:, None]`) is deprecated and will be removed in a future version.  Convert to a numpy array before indexing instead.\n",
      "  ary_new = ary_new[:, np.newaxis]\n",
      "c:\\Users\\Thanh\\anaconda3\\envs\\env\\Lib\\site-packages\\mlxtend\\preprocessing\\scaling.py:40: FutureWarning: Support for multi-dimensional indexing (e.g. `obj[:, None]`) is deprecated and will be removed in a future version.  Convert to a numpy array before indexing instead.\n",
      "  ary_new = ary_new[:, np.newaxis]\n",
      "c:\\Users\\Thanh\\anaconda3\\envs\\env\\Lib\\site-packages\\mlxtend\\preprocessing\\scaling.py:40: FutureWarning: Support for multi-dimensional indexing (e.g. `obj[:, None]`) is deprecated and will be removed in a future version.  Convert to a numpy array before indexing instead.\n",
      "  ary_new = ary_new[:, np.newaxis]\n"
     ]
    },
    {
     "data": {
      "image/png": "[encoded data removed]",
      "text/plain": [
       "<Figure size 1800x1800 with 6 Axes>"
      ]
     },
     "metadata": {},
     "output_type": "display_data"
    }
   ],
   "source": [
    "fig, ax = plt.subplots(3,2, figsize = (18,18), sharey=True)\n",
    "columns = ['trtbps', 'chol', 'thalachh']\n",
    "\n",
    "for i, column in enumerate(columns):\n",
    "    original_data = df_heart[column]\n",
    "    scaled_data = minmax_scaling(original_data, columns=[0])\n",
    "    df_heart[f'scaled_{column}'] = scaled_data\n",
    "    \n",
    "    sns.histplot(original_data, ax=ax[i, 0], kde=True, legend=False)\n",
    "    ax[i, 0].set_title(f\"Original {column}\", pad=10, fontsize=15)\n",
    "    sns.histplot(scaled_data, ax=ax[i, 1], kde=True, legend=False)\n",
    "    ax[i, 1].set_title(f\"Scaled {column}\", pad=10, fontsize=15)\n",
    "    \n",
    "plt.show()"
   ]
  },
  {
   "cell_type": "code",
   "execution_count": 10,
   "metadata": {},
   "outputs": [
    {
     "data": {
      "text/html": [
       "<div>\n",
       "<style scoped>\n",
       "    .dataframe tbody tr th:only-of-type {\n",
       "        vertical-align: middle;\n",
       "    }\n",
       "\n",
       "    .dataframe tbody tr th {\n",
       "        vertical-align: top;\n",
       "    }\n",
       "\n",
       "    .dataframe thead th {\n",
       "        text-align: right;\n",
       "    }\n",
       "</style>\n",
       "<table border=\"1\" class=\"dataframe\">\n",
       "  <thead>\n",
       "    <tr style=\"text-align: right;\">\n",
       "      <th></th>\n",
       "      <th>age</th>\n",
       "      <th>sex</th>\n",
       "      <th>cp</th>\n",
       "      <th>trtbps</th>\n",
       "      <th>chol</th>\n",
       "      <th>fbs</th>\n",
       "      <th>restecg</th>\n",
       "      <th>thalachh</th>\n",
       "      <th>exng</th>\n",
       "      <th>oldpeak</th>\n",
       "      <th>slp</th>\n",
       "      <th>caa</th>\n",
       "      <th>thall</th>\n",
       "      <th>output</th>\n",
       "      <th>c(Middle-aged Adults)</th>\n",
       "      <th>c(Old Adults)</th>\n",
       "      <th>c(Young Adults)</th>\n",
       "      <th>scaled_trtbps</th>\n",
       "      <th>scaled_chol</th>\n",
       "      <th>scaled_thalachh</th>\n",
       "    </tr>\n",
       "  </thead>\n",
       "  <tbody>\n",
       "    <tr>\n",
       "      <th>0</th>\n",
       "      <td>63</td>\n",
       "      <td>1</td>\n",
       "      <td>3</td>\n",
       "      <td>145</td>\n",
       "      <td>233</td>\n",
       "      <td>1</td>\n",
       "      <td>0</td>\n",
       "      <td>150</td>\n",
       "      <td>0</td>\n",
       "      <td>2.3</td>\n",
       "      <td>0</td>\n",
       "      <td>0</td>\n",
       "      <td>1</td>\n",
       "      <td>1</td>\n",
       "      <td>0</td>\n",
       "      <td>1</td>\n",
       "      <td>0</td>\n",
       "      <td>0.481132</td>\n",
       "      <td>0.244292</td>\n",
       "      <td>0.603053</td>\n",
       "    </tr>\n",
       "    <tr>\n",
       "      <th>1</th>\n",
       "      <td>37</td>\n",
       "      <td>1</td>\n",
       "      <td>2</td>\n",
       "      <td>130</td>\n",
       "      <td>250</td>\n",
       "      <td>0</td>\n",
       "      <td>1</td>\n",
       "      <td>187</td>\n",
       "      <td>0</td>\n",
       "      <td>3.5</td>\n",
       "      <td>0</td>\n",
       "      <td>0</td>\n",
       "      <td>2</td>\n",
       "      <td>1</td>\n",
       "      <td>1</td>\n",
       "      <td>0</td>\n",
       "      <td>0</td>\n",
       "      <td>0.339623</td>\n",
       "      <td>0.283105</td>\n",
       "      <td>0.885496</td>\n",
       "    </tr>\n",
       "    <tr>\n",
       "      <th>2</th>\n",
       "      <td>41</td>\n",
       "      <td>0</td>\n",
       "      <td>1</td>\n",
       "      <td>130</td>\n",
       "      <td>204</td>\n",
       "      <td>0</td>\n",
       "      <td>0</td>\n",
       "      <td>172</td>\n",
       "      <td>0</td>\n",
       "      <td>1.4</td>\n",
       "      <td>2</td>\n",
       "      <td>0</td>\n",
       "      <td>2</td>\n",
       "      <td>1</td>\n",
       "      <td>1</td>\n",
       "      <td>0</td>\n",
       "      <td>0</td>\n",
       "      <td>0.339623</td>\n",
       "      <td>0.178082</td>\n",
       "      <td>0.770992</td>\n",
       "    </tr>\n",
       "    <tr>\n",
       "      <th>3</th>\n",
       "      <td>56</td>\n",
       "      <td>1</td>\n",
       "      <td>1</td>\n",
       "      <td>120</td>\n",
       "      <td>236</td>\n",
       "      <td>0</td>\n",
       "      <td>1</td>\n",
       "      <td>178</td>\n",
       "      <td>0</td>\n",
       "      <td>0.8</td>\n",
       "      <td>2</td>\n",
       "      <td>0</td>\n",
       "      <td>2</td>\n",
       "      <td>1</td>\n",
       "      <td>0</td>\n",
       "      <td>1</td>\n",
       "      <td>0</td>\n",
       "      <td>0.245283</td>\n",
       "      <td>0.251142</td>\n",
       "      <td>0.816794</td>\n",
       "    </tr>\n",
       "    <tr>\n",
       "      <th>4</th>\n",
       "      <td>57</td>\n",
       "      <td>0</td>\n",
       "      <td>0</td>\n",
       "      <td>120</td>\n",
       "      <td>354</td>\n",
       "      <td>0</td>\n",
       "      <td>1</td>\n",
       "      <td>163</td>\n",
       "      <td>1</td>\n",
       "      <td>0.6</td>\n",
       "      <td>2</td>\n",
       "      <td>0</td>\n",
       "      <td>2</td>\n",
       "      <td>1</td>\n",
       "      <td>0</td>\n",
       "      <td>1</td>\n",
       "      <td>0</td>\n",
       "      <td>0.245283</td>\n",
       "      <td>0.520548</td>\n",
       "      <td>0.702290</td>\n",
       "    </tr>\n",
       "  </tbody>\n",
       "</table>\n",
       "</div>"
      ],
      "text/plain": [
       "   age  sex  cp  trtbps  chol  fbs  restecg  thalachh  exng  oldpeak  slp  \\\n",
       "0   63    1   3     145   233    1        0       150     0      2.3    0   \n",
       "1   37    1   2     130   250    0        1       187     0      3.5    0   \n",
       "2   41    0   1     130   204    0        0       172     0      1.4    2   \n",
       "3   56    1   1     120   236    0        1       178     0      0.8    2   \n",
       "4   57    0   0     120   354    0        1       163     1      0.6    2   \n",
       "\n",
       "   caa  thall  output  c(Middle-aged Adults)  c(Old Adults)  c(Young Adults)  \\\n",
       "0    0      1       1                      0              1                0   \n",
       "1    0      2       1                      1              0                0   \n",
       "2    0      2       1                      1              0                0   \n",
       "3    0      2       1                      0              1                0   \n",
       "4    0      2       1                      0              1                0   \n",
       "\n",
       "   scaled_trtbps  scaled_chol  scaled_thalachh  \n",
       "0       0.481132     0.244292         0.603053  \n",
       "1       0.339623     0.283105         0.885496  \n",
       "2       0.339623     0.178082         0.770992  \n",
       "3       0.245283     0.251142         0.816794  \n",
       "4       0.245283     0.520548         0.702290  "
      ]
     },
     "execution_count": 10,
     "metadata": {},
     "output_type": "execute_result"
    }
   ],
   "source": [
    "df_heart.head()"
   ]
  },
  {
   "cell_type": "code",
   "execution_count": 11,
   "metadata": {},
   "outputs": [],
   "source": [
    "X_full = df_heart.copy()\n",
    "X_full.dropna(axis=0, subset=['output'], inplace=True)\n",
    "y = np.array(X_full['output'])\n",
    "X_full.drop(['output'], axis=1, inplace=True)\n",
    "\n",
    "X = np.array(X_full)\n",
    "\n",
    "X_train, X_test, y_train, y_test = train_test_split(X, y, test_size=0.2, random_state=0)"
   ]
  },
  {
   "cell_type": "code",
   "execution_count": 12,
   "metadata": {},
   "outputs": [
    {
     "name": "stdout",
     "output_type": "stream",
     "text": [
      "Accuracy score: 0.79\n"
     ]
    }
   ],
   "source": [
    "model = DecisionTreeClassifier(criterion='entropy', random_state=0)\n",
    "model.fit(X_train, y_train)\n",
    "y_pred = model.predict(X_test)\n",
    "accuracy = accuracy_score(y_test, y_pred)\n",
    "print(f\"Accuracy score: {round(accuracy, 2)}\")"
   ]
  },
  {
   "cell_type": "code",
   "execution_count": 13,
   "metadata": {},
   "outputs": [
    {
     "name": "stdout",
     "output_type": "stream",
     "text": [
      "Accuracy score: 0.84\n"
     ]
    }
   ],
   "source": [
    "forest_model = RandomForestClassifier(n_estimators=50, random_state=0)\n",
    "forest_model.fit(X_train, y_train)\n",
    "y_pred = forest_model.predict(X_test)\n",
    "\n",
    "accuracy = accuracy_score(y_test, y_pred)\n",
    "print(f\"Accuracy score: {round(accuracy, 2)}\")"
   ]
  },
  {
   "cell_type": "code",
   "execution_count": 14,
   "metadata": {},
   "outputs": [
    {
     "name": "stdout",
     "output_type": "stream",
     "text": [
      "Accuracy score: 0.72\n"
     ]
    }
   ],
   "source": [
    "model = GaussianNB()\n",
    "model.fit(X_train, y_train)\n",
    "y_pred = model.predict(X_test)\n",
    "accuracy = accuracy_score(y_test, y_pred)\n",
    "print(f\"Accuracy score: {round(accuracy, 2)}\")"
   ]
  },
  {
   "cell_type": "code",
   "execution_count": 15,
   "metadata": {},
   "outputs": [
    {
     "name": "stdout",
     "output_type": "stream",
     "text": [
      "MUTUAL INFO METHOD:\n",
      "\n",
      "Highest Model Score: 0.8524590163934426\n",
      "Best k: 4\n",
      "Best Selected Features: ['cp' 'exng' 'caa' 'thall']\n"
     ]
    }
   ],
   "source": [
    "def mutual_info_session(X_train, y_train, X_test, y_test, k, df):\n",
    "    selector = SelectKBest(score_func=mutual_info_classif, k=k)\n",
    "    selector.fit(X_train, y_train)    \n",
    "    \n",
    "    selected_feature_columns = np.array(df.columns[selector.get_support(True)])\n",
    "    \n",
    "    model = GaussianNB()\n",
    "    model.fit(selector.transform(X_train), y_train)\n",
    "    \n",
    "    selected_model_score = model.score(selector.transform(X_test), y_test)\n",
    "    \n",
    "    return k, selected_feature_columns, selected_model_score\n",
    "\n",
    "print(\"MUTUAL INFO METHOD:\\n\")\n",
    "result = []\n",
    "highest_score = 0.0\n",
    "mu_best_k = None\n",
    "mu_best_features = None\n",
    "\n",
    "for i in range(1, 16):\n",
    "    k, selected_feature_columns, selected_model_score = mutual_info_session(X_train, y_train, X_test, y_test, i, X_full)\n",
    "    result.append((k, selected_feature_columns, selected_model_score))\n",
    "    \n",
    "    if selected_model_score > highest_score:\n",
    "        highest_score = selected_model_score\n",
    "        mu_best_k = k\n",
    "        mu_best_features = selected_feature_columns\n",
    "\n",
    "print(\"Highest Model Score:\", highest_score)\n",
    "print(\"Best k:\", mu_best_k)\n",
    "print(\"Best Selected Features:\", mu_best_features)\n"
   ]
  },
  {
   "cell_type": "code",
   "execution_count": 16,
   "metadata": {},
   "outputs": [
    {
     "name": "stdout",
     "output_type": "stream",
     "text": [
      "CHI SQUARE METHOD: \n",
      "\n",
      "Highest Model Score: 0.7049180327868853\n",
      "Best k: 15\n",
      "Best Selected Features: ['age' 'sex' 'cp' 'trtbps' 'chol' 'thalachh' 'exng' 'oldpeak' 'slp' 'caa'\n",
      " 'thall' 'c(Middle-aged Adults)' 'c(Old Adults)' 'c(Young Adults)'\n",
      " 'scaled_thalachh']\n"
     ]
    }
   ],
   "source": [
    "def chi_feature_session(X_train, y_train, X_test, y_test, k, df):\n",
    "    selector = SelectKBest(score_func=chi2, k=k)\n",
    "    selector.fit(X_train, y_train)    \n",
    "    \n",
    "    selected_feature_columns = np.array(df.columns[selector.get_support(True)])\n",
    "    \n",
    "    model = GaussianNB()\n",
    "    model.fit(selector.transform(X_train), y_train)\n",
    "    \n",
    "    # Assuming X_test and y_test are available in the global scope\n",
    "    selected_model_score = model.score(selector.transform(X_test), y_test)\n",
    "    \n",
    "    return k, selected_feature_columns, selected_model_score\n",
    "\n",
    "print(\"CHI SQUARE METHOD: \\n\")\n",
    "result = []\n",
    "highest_score = 0.0  # Initialize the highest score\n",
    "chi_best_k, chi_best_features = None, None\n",
    "\n",
    "for i in range(1, 16):\n",
    "    k, selected_feature_columns, selected_model_score = chi_feature_session(X_train, y_train, X_test, y_test, k, X_full)\n",
    "    result.append((k, selected_feature_columns, selected_model_score))\n",
    "    \n",
    "    if selected_model_score > highest_score:\n",
    "        highest_score = selected_model_score\n",
    "        chi_best_k = k\n",
    "        chi_best_features = selected_feature_columns\n",
    "\n",
    "print(\"Highest Model Score:\", highest_score)\n",
    "print(\"Best k:\", chi_best_k)\n",
    "print(\"Best Selected Features:\", chi_best_features)\n"
   ]
  },
  {
   "cell_type": "code",
   "execution_count": 17,
   "metadata": {},
   "outputs": [
    {
     "name": "stdout",
     "output_type": "stream",
     "text": [
      "FORWARD SELECTION METHOD:\n",
      "\n",
      "Highest Model Score: 0.8688524590163934\n",
      "Best k: 6\n",
      "Best Selected Features: ['sex' 'cp' 'restecg' 'oldpeak' 'caa' 'thall']\n"
     ]
    }
   ],
   "source": [
    "class ForwardSelector(object):\n",
    "    def __init__(self, estimator):\n",
    "        self.estimator = estimator\n",
    "\n",
    "    def fit(self, X, y, k):\n",
    "        selected = np.zeros(X.shape[1]).astype(bool)  # holds indicators of whether each feature is selected\n",
    "\n",
    "        score = lambda X_features: clone(self.estimator).fit(X_features, y).score(X_features, y)\n",
    "        selected_indices = lambda: list(np.flatnonzero(selected))\n",
    "\n",
    "        while np.sum(selected) < k:\n",
    "            rest_indices = list(np.flatnonzero(~selected))  # indices of unselected columns\n",
    "            scores = []\n",
    "\n",
    "            for i in rest_indices:\n",
    "                feature_subset = selected_indices() + [i]\n",
    "                s = score(X[:, feature_subset])\n",
    "                scores.append(s)\n",
    "\n",
    "            idx_to_add = rest_indices[np.argmax(scores)]\n",
    "            selected[idx_to_add] = True\n",
    "\n",
    "        self.selected = selected.copy()\n",
    "        return self\n",
    "\n",
    "    def transform(self, X):\n",
    "        return X[:, self.selected]\n",
    "\n",
    "    def get_support(self, indices=False):\n",
    "        return np.flatnonzero(self.selected) if indices else self.selected\n",
    "\n",
    "def forward_selection_session(X_train, y_train, X_test, y_test, k, df):\n",
    "    model = GaussianNB()\n",
    "    selector = ForwardSelector(model)\n",
    "    selector.fit(X_train, y_train, k)\n",
    "    \n",
    "    selected_feature_columns = np.array(df.columns[selector.get_support(True)])\n",
    "    \n",
    "    model = GaussianNB()\n",
    "    model.fit(selector.transform(X_train), y_train)\n",
    "    \n",
    "    selected_model_score = model.score(selector.transform(X_test), y_test)\n",
    "    \n",
    "    return k, selected_feature_columns, selected_model_score\n",
    "\n",
    "print(\"FORWARD SELECTION METHOD:\\n\")\n",
    "result = []\n",
    "highest_score = 0.0\n",
    "forward_best_k = None\n",
    "forward_best_features = None\n",
    "\n",
    "for i in range(1, 16):\n",
    "    k, selected_feature_columns, selected_model_score = forward_selection_session(X_train, y_train, X_test, y_test, i, X_full)\n",
    "    result.append((k, selected_feature_columns, selected_model_score))\n",
    "    \n",
    "    if selected_model_score > highest_score:\n",
    "        highest_score = selected_model_score\n",
    "        forward_best_k = k\n",
    "        forward_best_features = selected_feature_columns\n",
    "\n",
    "print(\"Highest Model Score:\", highest_score)\n",
    "print(\"Best k:\", forward_best_k)\n",
    "print(\"Best Selected Features:\", forward_best_features)\n"
   ]
  },
  {
   "cell_type": "code",
   "execution_count": 18,
   "metadata": {},
   "outputs": [
    {
     "name": "stdout",
     "output_type": "stream",
     "text": [
      "['thall', 'cp', 'exng', 'restecg', 'oldpeak', 'caa', 'sex']\n",
      "[12, 2, 8, 6, 9, 11, 1]\n"
     ]
    }
   ],
   "source": [
    "selected_feature_columns = list(set(mu_best_features)|set(forward_best_features))\n",
    "selected_feature_indices = [X_full.columns.get_loc(col) for col in selected_feature_columns]\n",
    "print(selected_feature_columns)\n",
    "print(selected_feature_indices)"
   ]
  },
  {
   "cell_type": "code",
   "execution_count": 19,
   "metadata": {},
   "outputs": [
    {
     "name": "stdout",
     "output_type": "stream",
     "text": [
      "(242, 7)\n",
      "(61, 7)\n"
     ]
    }
   ],
   "source": [
    "X_train = X_train[:, selected_feature_indices]\n",
    "print(X_train.shape)\n",
    "X_test = X_test[:, selected_feature_indices]\n",
    "print(X_test.shape)"
   ]
  },
  {
   "cell_type": "code",
   "execution_count": 20,
   "metadata": {},
   "outputs": [
    {
     "name": "stdout",
     "output_type": "stream",
     "text": [
      "Accuracy score: 0.82\n"
     ]
    }
   ],
   "source": [
    "model = DecisionTreeClassifier(criterion='entropy', random_state=0)\n",
    "model.fit(X_train, y_train)\n",
    "y_pred = model.predict(X_test)\n",
    "accuracy = accuracy_score(y_test, y_pred)\n",
    "print(f\"Accuracy score: {round(accuracy, 2)}\")"
   ]
  },
  {
   "cell_type": "code",
   "execution_count": 21,
   "metadata": {},
   "outputs": [
    {
     "name": "stdout",
     "output_type": "stream",
     "text": [
      "Max depth: None -> Accuracy score: 0.819672131147541\n",
      "Max depth: 2 -> Accuracy score: 0.7377049180327869\n",
      "Max depth: 5 -> Accuracy score: 0.7868852459016393\n",
      "Max depth: 10 -> Accuracy score: 0.8360655737704918\n",
      "Max depth: 20 -> Accuracy score: 0.819672131147541\n",
      "Max depth: 50 -> Accuracy score: 0.819672131147541\n",
      "Max depth: 100 -> Accuracy score: 0.819672131147541\n"
     ]
    }
   ],
   "source": [
    "max_depths = [None, 2, 5, 10 , 20, 50, 100]\n",
    "for depth in max_depths:\n",
    "    model = DecisionTreeClassifier(criterion='entropy', max_depth=depth, random_state=0)\n",
    "    model.fit(X_train, y_train)\n",
    "    y_pred = model.predict(X_test)\n",
    "    accuracy = accuracy_score(y_test, y_pred)\n",
    "    print(f'Max depth: {depth} -> Accuracy score: {accuracy}')"
   ]
  },
  {
   "cell_type": "code",
   "execution_count": 22,
   "metadata": {},
   "outputs": [
    {
     "name": "stdout",
     "output_type": "stream",
     "text": [
      "Accuracy score: 0.77\n"
     ]
    }
   ],
   "source": [
    "forest_model = RandomForestClassifier(random_state=1)\n",
    "forest_model.fit(X_train, y_train)\n",
    "y_pred = forest_model.predict(X_test)\n",
    "\n",
    "accuracy = accuracy_score(y_test, y_pred)\n",
    "print(f\"Accuracy score: {round(accuracy, 2)}\")"
   ]
  },
  {
   "cell_type": "code",
   "execution_count": 23,
   "metadata": {},
   "outputs": [
    {
     "name": "stdout",
     "output_type": "stream",
     "text": [
      "Accuracy score of model_1: 0.82\n",
      "Accuracy score of model_2: 0.84\n",
      "Accuracy score of model_3: 0.8\n",
      "Accuracy score of model_4: 0.85\n",
      "Accuracy score of model_5: 0.82\n"
     ]
    }
   ],
   "source": [
    "# Define the models\n",
    "model_1 = RandomForestClassifier(n_estimators=50, random_state=0)\n",
    "model_2 = RandomForestClassifier(n_estimators=100, random_state=0)\n",
    "model_3 = RandomForestClassifier(n_estimators=100, criterion='entropy', random_state=0)\n",
    "model_4 = RandomForestClassifier(n_estimators=200, min_samples_split=20, random_state=0)\n",
    "model_5 = RandomForestClassifier(n_estimators=100, max_depth=7, random_state=0)\n",
    "\n",
    "models = [model_1, model_2, model_3, model_4, model_5]\n",
    "\n",
    "for i, model in enumerate(models):\n",
    "    model.fit(X_train, y_train)\n",
    "    y_pred = model.predict(X_test)\n",
    "    accuracy = accuracy_score(y_test, y_pred)\n",
    "    print(f\"Accuracy score of model_{i+1}: {round(accuracy, 2)}\")"
   ]
  },
  {
   "cell_type": "code",
   "execution_count": 24,
   "metadata": {},
   "outputs": [
    {
     "name": "stdout",
     "output_type": "stream",
     "text": [
      "Accuracy score: 0.852\n",
      "Number of mislabeled points out of a total 61 points : 9\n"
     ]
    }
   ],
   "source": [
    "best_features = ['sex', 'cp', 'thall', 'oldpeak', 'slp', 'restecg', 'exng', 'caa']\n",
    "\n",
    "primary_model = RandomForestClassifier(n_estimators=200, min_samples_split=20, random_state=0)\n",
    "primary_model.fit(X_train, y_train)\n",
    "y_pred = primary_model.predict(X_test)\n",
    "accuracy = accuracy_score(y_test, y_pred)\n",
    "print(f\"Accuracy score: {round(accuracy, 3)}\")\n",
    "\n",
    "print(\"Number of mislabeled points out of a total {} points : {}\"\n",
    "      .format(len(X_test),(y_test != y_pred).sum()))"
   ]
  },
  {
   "cell_type": "code",
   "execution_count": null,
   "metadata": {},
   "outputs": [],
   "source": []
  }
 ],
 "metadata": {
  "kernelspec": {
   "display_name": "env",
   "language": "python",
   "name": "python3"
  },
  "language_info": {
   "codemirror_mode": {
    "name": "ipython",
    "version": 3
   },
   "file_extension": ".py",
   "mimetype": "text/x-python",
   "name": "python",
   "nbconvert_exporter": "python",
   "pygments_lexer": "ipython3",
   "version": "3.11.3"
  }
 },
 "nbformat": 4,
 "nbformat_minor": 2
}
